{
 "cells": [
  {
   "cell_type": "code",
   "execution_count": 1,
   "metadata": {},
   "outputs": [],
   "source": [
    "import pandas as pd"
   ]
  },
  {
   "cell_type": "code",
   "execution_count": 2,
   "metadata": {},
   "outputs": [],
   "source": [
    "def clean_workout_data(df):\n",
    "    muscle_group_dict = {\n",
    "        'Seated Incline Curl (Dumbbell)': 'Arms',\n",
    "        'Seated Palms Up Wrist Curl': 'Arms',\n",
    "        'Triceps Extension (Dumbbell)': 'Arms',\n",
    "        'Preacher Curl (Dumbbell)': 'Arms',\n",
    "        'Triceps Pushdown': 'Arms',\n",
    "        'Forearm Dumbell Curl': 'Arms',\n",
    "        'Hammer Curl (Dumbbell)': 'Arms',\n",
    "        'Knee Raise Parallel Bars': 'Abs',\n",
    "        'Leg Press Horizontal (Machine)': 'Legs',\n",
    "        'Pull Up': 'Back',\n",
    "        'Seated Row (Machine)': 'Back',\n",
    "        'Face Pull': 'Shoulders',\n",
    "        'Leg Extension (Machine)': 'Legs',\n",
    "        'Dumbell Skiers': 'Shoulders',\n",
    "        'Shrug (Dumbbell)': 'Back',\n",
    "        'Seated Cable Row - Bar Grip': 'Back',\n",
    "        'Lat Pulldown (Machine)': 'Back',\n",
    "        'Seated Calf Raise': 'Legs',\n",
    "        'Incline Bench Press (Dumbbell)': 'Chest',\n",
    "        'Shoulder Press (Dumbbell)': 'Shoulders',\n",
    "        'Incline Bench Press (Barbell)': 'Chest',\n",
    "        'Lateral Raise (Dumbbell)': 'Shoulders',\n",
    "        'Cable Fly Crossovers': 'Chest',\n",
    "        'Shoulder Press (Machine Plates)': 'Shoulders',\n",
    "        'Torso Rotation': 'Abs',\n",
    "        'Lateral Raise (Cable)': 'Shoulders',\n",
    "        'Cable Crunch': 'Abs'\n",
    "    }\n",
    "\n",
    "    df['muscle_group'] = df['exercise_title'].map(muscle_group_dict)\n",
    "\n",
    "\n",
    "    df['start_time'] = pd.to_datetime(df['start_time'], format='%d %b %Y, %H:%M')\n",
    "    df['end_time'] = pd.to_datetime(df['end_time'], format='%d %b %Y, %H:%M')\n",
    "    df['duration'] = (df['end_time'] - df['start_time']).dt.total_seconds() / 60\n",
    "    return df"
   ]
  },
  {
   "cell_type": "code",
   "execution_count": 3,
   "metadata": {},
   "outputs": [],
   "source": [
    "df = pd.read_csv('workout_data.csv')"
   ]
  },
  {
   "cell_type": "code",
   "execution_count": 9,
   "metadata": {},
   "outputs": [],
   "source": [
    "df_weight = pd.read_csv('weight_data.csv')"
   ]
  },
  {
   "cell_type": "code",
   "execution_count": 4,
   "metadata": {},
   "outputs": [],
   "source": [
    "df = clean_workout_data(df)"
   ]
  },
  {
   "cell_type": "code",
   "execution_count": 5,
   "metadata": {},
   "outputs": [
    {
     "data": {
      "text/plain": [
       "5109.0"
      ]
     },
     "execution_count": 5,
     "metadata": {},
     "output_type": "execute_result"
    }
   ],
   "source": [
    "df.drop_duplicates(subset=['title', 'duration'])['duration'].sum()"
   ]
  },
  {
   "cell_type": "code",
   "execution_count": 8,
   "metadata": {},
   "outputs": [
    {
     "data": {
      "text/plain": [
       "[nan, 'Back', 'Shoulders', 'Legs', 'Chest', 'Arms', 'Abs']"
      ]
     },
     "execution_count": 8,
     "metadata": {},
     "output_type": "execute_result"
    }
   ],
   "source": [
    "df['muscle_group'].unique().tolist()"
   ]
  },
  {
   "cell_type": "code",
   "execution_count": 21,
   "metadata": {},
   "outputs": [
    {
     "data": {
      "text/html": [
       "<div>\n",
       "<style scoped>\n",
       "    .dataframe tbody tr th:only-of-type {\n",
       "        vertical-align: middle;\n",
       "    }\n",
       "\n",
       "    .dataframe tbody tr th {\n",
       "        vertical-align: top;\n",
       "    }\n",
       "\n",
       "    .dataframe thead th {\n",
       "        text-align: right;\n",
       "    }\n",
       "</style>\n",
       "<table border=\"1\" class=\"dataframe\">\n",
       "  <thead>\n",
       "    <tr style=\"text-align: right;\">\n",
       "      <th></th>\n",
       "      <th>title</th>\n",
       "      <th>weight_kg</th>\n",
       "      <th>start_time</th>\n",
       "    </tr>\n",
       "  </thead>\n",
       "  <tbody>\n",
       "    <tr>\n",
       "      <th>0</th>\n",
       "      <td>Day 10:  Arms</td>\n",
       "      <td>45.0</td>\n",
       "      <td>2024-02-28 06:11:00</td>\n",
       "    </tr>\n",
       "    <tr>\n",
       "      <th>1</th>\n",
       "      <td>Day 11: Pull</td>\n",
       "      <td>130.0</td>\n",
       "      <td>2024-03-01 09:41:00</td>\n",
       "    </tr>\n",
       "    <tr>\n",
       "      <th>2</th>\n",
       "      <td>Day 12: Push</td>\n",
       "      <td>80.0</td>\n",
       "      <td>2024-03-05 06:24:00</td>\n",
       "    </tr>\n",
       "    <tr>\n",
       "      <th>3</th>\n",
       "      <td>Day 13: Happyman's FBW</td>\n",
       "      <td>80.0</td>\n",
       "      <td>2024-03-06 07:27:00</td>\n",
       "    </tr>\n",
       "    <tr>\n",
       "      <th>4</th>\n",
       "      <td>Day 14: FBW</td>\n",
       "      <td>90.0</td>\n",
       "      <td>2024-03-09 10:02:00</td>\n",
       "    </tr>\n",
       "  </tbody>\n",
       "</table>\n",
       "</div>"
      ],
      "text/plain": [
       "                    title  weight_kg          start_time\n",
       "0           Day 10:  Arms       45.0 2024-02-28 06:11:00\n",
       "1            Day 11: Pull      130.0 2024-03-01 09:41:00\n",
       "2            Day 12: Push       80.0 2024-03-05 06:24:00\n",
       "3  Day 13: Happyman's FBW       80.0 2024-03-06 07:27:00\n",
       "4             Day 14: FBW       90.0 2024-03-09 10:02:00"
      ]
     },
     "execution_count": 21,
     "metadata": {},
     "output_type": "execute_result"
    }
   ],
   "source": [
    "df_grouped = df.groupby('title')[['weight_kg', 'start_time']].max().reset_index()\n",
    "df_grouped.head()"
   ]
  },
  {
   "cell_type": "code",
   "execution_count": 62,
   "metadata": {},
   "outputs": [],
   "source": [
    "df_exercise = df[df['exercise_title'] == 'Triceps Pushdown']"
   ]
  },
  {
   "cell_type": "code",
   "execution_count": null,
   "metadata": {},
   "outputs": [],
   "source": []
  }
 ],
 "metadata": {
  "kernelspec": {
   "display_name": "Python 3",
   "language": "python",
   "name": "python3"
  },
  "language_info": {
   "codemirror_mode": {
    "name": "ipython",
    "version": 3
   },
   "file_extension": ".py",
   "mimetype": "text/x-python",
   "name": "python",
   "nbconvert_exporter": "python",
   "pygments_lexer": "ipython3",
   "version": "3.9.6"
  }
 },
 "nbformat": 4,
 "nbformat_minor": 2
}
