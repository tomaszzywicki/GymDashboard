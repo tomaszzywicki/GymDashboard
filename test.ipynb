{
 "cells": [
  {
   "cell_type": "code",
   "execution_count": 1,
   "metadata": {},
   "outputs": [],
   "source": [
    "import pandas as pd"
   ]
  },
  {
   "cell_type": "code",
   "execution_count": 2,
   "metadata": {},
   "outputs": [],
   "source": [
    "def clean_workout_data(df):\n",
    "    muscle_group_dict = {\n",
    "        'Seated Incline Curl (Dumbbell)': 'Arms',\n",
    "        'Seated Palms Up Wrist Curl': 'Arms',\n",
    "        'Triceps Extension (Dumbbell)': 'Arms',\n",
    "        'Preacher Curl (Dumbbell)': 'Arms',\n",
    "        'Triceps Pushdown': 'Arms',\n",
    "        'Forearm Dumbell Curl': 'Arms',\n",
    "        'Hammer Curl (Dumbbell)': 'Arms',\n",
    "        'Knee Raise Parallel Bars': 'Abs',\n",
    "        'Leg Press Horizontal (Machine)': 'Legs',\n",
    "        'Pull Up': 'Back',\n",
    "        'Seated Row (Machine)': 'Back',\n",
    "        'Face Pull': 'Shoulders',\n",
    "        'Leg Extension (Machine)': 'Legs',\n",
    "        'Dumbell Skiers': 'Shoulders',\n",
    "        'Shrug (Dumbbell)': 'Back',\n",
    "        'Seated Cable Row - Bar Grip': 'Back',\n",
    "        'Lat Pulldown (Machine)': 'Back',\n",
    "        'Seated Calf Raise': 'Legs',\n",
    "        'Incline Bench Press (Dumbbell)': 'Chest',\n",
    "        'Shoulder Press (Dumbbell)': 'Shoulders',\n",
    "        'Incline Bench Press (Barbell)': 'Chest',\n",
    "        'Lateral Raise (Dumbbell)': 'Shoulders',\n",
    "        'Cable Fly Crossovers': 'Chest',\n",
    "        'Shoulder Press (Machine Plates)': 'Shoulders',\n",
    "        'Torso Rotation': 'Abs',\n",
    "        'Lateral Raise (Cable)': 'Shoulders',\n",
    "        'Cable Crunch': 'Abs'\n",
    "    }\n",
    "\n",
    "    df['muscle_group'] = df['exercise_title'].map(muscle_group_dict)\n",
    "\n",
    "\n",
    "    df['start_time'] = pd.to_datetime(df['start_time'], format='%d %b %Y, %H:%M')\n",
    "    df['end_time'] = pd.to_datetime(df['end_time'], format='%d %b %Y, %H:%M')\n",
    "    df['duration'] = (df['end_time'] - df['start_time']).dt.total_seconds() / 60\n",
    "    return df"
   ]
  },
  {
   "cell_type": "code",
   "execution_count": 3,
   "metadata": {},
   "outputs": [],
   "source": [
    "df = pd.read_csv('workout_data.csv')"
   ]
  },
  {
   "cell_type": "code",
   "execution_count": 4,
   "metadata": {},
   "outputs": [],
   "source": [
    "df = clean_workout_data(df)"
   ]
  },
  {
   "cell_type": "code",
   "execution_count": 16,
   "metadata": {},
   "outputs": [
    {
     "data": {
      "text/plain": [
       "5109.0"
      ]
     },
     "execution_count": 16,
     "metadata": {},
     "output_type": "execute_result"
    }
   ],
   "source": [
    "df.drop_duplicates(subset=['title', 'duration'])['duration'].sum()"
   ]
  },
  {
   "cell_type": "code",
   "execution_count": null,
   "metadata": {},
   "outputs": [],
   "source": [
    "df.drop_duplicates(subset=['title', 'duration'])"
   ]
  }
 ],
 "metadata": {
  "kernelspec": {
   "display_name": "Python 3",
   "language": "python",
   "name": "python3"
  },
  "language_info": {
   "codemirror_mode": {
    "name": "ipython",
    "version": 3
   },
   "file_extension": ".py",
   "mimetype": "text/x-python",
   "name": "python",
   "nbconvert_exporter": "python",
   "pygments_lexer": "ipython3",
   "version": "3.9.6"
  }
 },
 "nbformat": 4,
 "nbformat_minor": 2
}
